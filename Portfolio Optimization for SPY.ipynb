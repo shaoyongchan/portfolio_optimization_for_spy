{
 "cells": [
  {
   "cell_type": "code",
   "execution_count": 1,
   "id": "d7016954",
   "metadata": {},
   "outputs": [],
   "source": [
    "import numpy as np\n",
    "import pandas as pd\n",
    "import matplotlib.pyplot as plt\n",
    "import scipy.optimize as sci_plt\n",
    "import yfinance as yf"
   ]
  },
  {
   "cell_type": "code",
   "execution_count": 2,
   "id": "46476397",
   "metadata": {},
   "outputs": [],
   "source": [
    "#start and end dates\n",
    "start_date = \"2022-07-03\"\n",
    "end_date = \"2023-07-03\""
   ]
  },
  {
   "cell_type": "code",
   "execution_count": 3,
   "id": "e098f90b",
   "metadata": {},
   "outputs": [
    {
     "name": "stderr",
     "output_type": "stream",
     "text": [
      "[**************        30%%                      ]  149 of 503 completed"
     ]
    },
    {
     "name": "stdout",
     "output_type": "stream",
     "text": [
      "$BF.B: possibly delisted; No price data found  (1d 2022-07-03 -> 2023-07-03)\n"
     ]
    },
    {
     "name": "stderr",
     "output_type": "stream",
     "text": [
      "[*********************100%%**********************]  503 of 503 completed\n",
      "\n",
      "5 Failed downloads:\n",
      "['VLTO', 'SOLV', 'GEV']: YFChartError(\"%ticker%: Data doesn't exist for startDate = 1656820800, endDate = 1688356800\")\n",
      "['BF.B']: YFPricesMissingError('$%ticker%: possibly delisted; No price data found  (1d 2022-07-03 -> 2023-07-03)')\n",
      "['BRK.B']: YFTzMissingError('$%ticker%: possibly delisted; No timezone found')\n"
     ]
    }
   ],
   "source": [
    "#tickers in S&P 500\n",
    "tickers = [ticker for ticker in pd.read_html('https://en.wikipedia.org/wiki/List_of_S%26P_500_companies')[0][\"Symbol\"]]\n",
    "\n",
    "#loading daily closing prices into a dataframe\n",
    "daily_stock_prices = yf.download(tickers, start = start_date, end = end_date)[\"Close\"]\n",
    "\n",
    "#removing tickers with missing data\n",
    "remove_tickers = [ticker for ticker in list(daily_stock_prices.columns) if sum(np.isnan(daily_stock_prices[ticker])) != 0]\n",
    "daily_stock_prices = daily_stock_prices.dropna(axis = 1)\n",
    "tickers = [ticker for ticker in tickers if ticker not in remove_tickers]\n",
    "\n",
    "#numbers\n",
    "num_of_assets = len(tickers)\n",
    "num_of_days = len(daily_stock_prices)\n",
    "\n",
    "#daily stock simple and log returns\n",
    "daily_simple_stock_returns = daily_stock_prices.pct_change()\n",
    "daily_log_stock_returns = np.log(1 + daily_simple_stock_returns)"
   ]
  },
  {
   "cell_type": "code",
   "execution_count": 4,
   "id": "93bedc9a",
   "metadata": {},
   "outputs": [
    {
     "name": "stderr",
     "output_type": "stream",
     "text": [
      "[*********************100%%**********************]  1 of 1 completed\n"
     ]
    }
   ],
   "source": [
    "#CAPM model\n",
    "\n",
    "#daily closing prices of S&P 500 as the \"market\"\n",
    "daily_market_prices = pd.DataFrame({\"SPY\": yf.download(\"SPY\", start = start_date, end = end_date)[\"Close\"]})\n",
    "\n",
    "#daily simple and log market returns\n",
    "daily_simple_market_returns = daily_market_prices.pct_change()\n",
    "daily_log_market_returns = np.log(1 + daily_simple_market_returns)\n",
    "\n",
    "#annual simple market return\n",
    "annual_market_return = np.exp(daily_log_market_returns[\"SPY\"].mean() * (num_of_days - 1)) - 1\n",
    "\n",
    "#annual risk-free return\n",
    "annual_risk_free_return = 0.02\n",
    "\n",
    "#beta\n",
    "market_variance = np.sum([(daily_log_market_returns.iloc[i] - daily_log_market_returns.mean()) ** 2 for i in range(1, num_of_days)]) / (num_of_days - 2)\n",
    "covariance = [np.sum([(daily_log_stock_returns[i].iloc[j] - daily_log_stock_returns[i].mean()) * (daily_log_market_returns[\"SPY\"].iloc[j] - daily_log_market_returns[\"SPY\"].mean()) for j in range(1, num_of_days)]) / (num_of_days - 2) for i in tickers]\n",
    "beta = covariance / market_variance\n",
    "\n",
    "#predicted annual stock returns by CAPM model\n",
    "def CAPM(rf, b, rm):\n",
    "    return rf + b * (rm - rf)\n",
    "capm_returns = np.array([CAPM(annual_risk_free_return, beta[i], annual_market_return) for i in range(num_of_assets)])"
   ]
  },
  {
   "cell_type": "code",
   "execution_count": 5,
   "id": "492c5588",
   "metadata": {},
   "outputs": [],
   "source": [
    "#function that inputs weights and outputs annual return, standard deviation, sharpe ratio \n",
    "def get_metrics(weights):\n",
    "    weights = np.array(weights)\n",
    "    annual_portfolio_return = np.dot(weights, capm_returns)\n",
    "    portfolio_returns_std = np.sqrt(np.dot(weights.T, np.dot(daily_simple_stock_returns.cov() * (num_of_days - 1), weights)))\n",
    "    sharpe_ratio = (annual_portfolio_return - annual_risk_free_return) / portfolio_returns_std\n",
    "    return [annual_portfolio_return, portfolio_returns_std, sharpe_ratio]\n",
    "\n",
    "#function to check sum of weights equals 1\n",
    "def check_weights(weights):\n",
    "    return np.sum(weights) - 1"
   ]
  },
  {
   "cell_type": "code",
   "execution_count": null,
   "id": "64d55004",
   "metadata": {},
   "outputs": [],
   "source": [
    "#functions to be minimized\n",
    "def get_neg_sharpe_ratio(weights):\n",
    "    return -1 * get_metrics(weights)[2]\n",
    "\n",
    "#initial weights, bounds, and constraints\n",
    "initial = num_of_assets * [1 / num_of_assets]\n",
    "bounds = tuple((0, 1) for ticker in tickers)\n",
    "constraints = ({\"type\": \"eq\", \"fun\": check_weights})\n",
    "\n",
    "#optimial weights\n",
    "optimize_sharpe_ratio = sci_plt.minimize(get_neg_sharpe_ratio, initial, bounds = bounds, constraints = constraints)\n",
    "optimal_weights = optimize_sharpe_ratio.x"
   ]
  },
  {
   "cell_type": "code",
   "execution_count": null,
   "id": "a4c61c31",
   "metadata": {},
   "outputs": [],
   "source": [
    "#getting the annual return, standard deviation, sharpe ratio with optimal weights\n",
    "annual_return = get_metrics(optimal_weights)[0]\n",
    "returns_std = get_metrics(optimal_weights)[1]\n",
    "sharpe_ratio = get_metrics(optimal_weights)[2]"
   ]
  },
  {
   "cell_type": "code",
   "execution_count": null,
   "id": "75c01cf9",
   "metadata": {},
   "outputs": [],
   "source": [
    "#displaying results\n",
    "print(\"Maximizing sharpe ratio \\n\")\n",
    "print(\"Annual return:\", round(annual_return, 3) * 100, \"%\")\n",
    "print(\"Standard eviation:\", round(returns_std, 3))\n",
    "print(\"Sharpe ratio:\", round(sharpe_ratio, 3))\n",
    "\n",
    "#pie chart of weights\n",
    "plt.pie(optimal_weights, labels = tickers, autopct = \"%1.1f%%\")\n",
    "plt.show()"
   ]
  },
  {
   "cell_type": "code",
   "execution_count": null,
   "id": "2ecd6d8a",
   "metadata": {},
   "outputs": [],
   "source": [
    "#getting the annual return, standard deviation, sharpe ratio with equal weights\n",
    "equal_weights = num_of_assets * [1 / num_of_assets]\n",
    "annual_baseline_return = get_metrics(equal_weights)[0]\n",
    "baseline_returns_std = get_metrics(equal_weights)[1]\n",
    "baseline_sharpe_ratio = get_metrics(equal_weights)[2]"
   ]
  },
  {
   "cell_type": "code",
   "execution_count": null,
   "id": "47bdd474",
   "metadata": {},
   "outputs": [],
   "source": [
    "#getting the annual return, standard deviation, sharpe ratio with S&P 500 default weights\n",
    "annual_market_return = annual_market_return\n",
    "market_returns_std = daily_simple_market_returns[\"SPY\"].std() * np.sqrt(num_of_days - 1)\n",
    "market_sharpe_ratio = (annual_market_return - annual_risk_free_return) / market_returns_std"
   ]
  },
  {
   "cell_type": "code",
   "execution_count": null,
   "id": "ed17888a",
   "metadata": {},
   "outputs": [],
   "source": [
    "#predicted results\n",
    "plt.title(\"Predicted annual returns\")\n",
    "plt.xlabel(\"Weights used\")\n",
    "plt.ylabel(\"Annual return %\")\n",
    "plt.bar_label(plt.bar([\"Optimal weights\", \"Equal weights\", \"S&P 500 default weights\"], [annual_return*100, annual_baseline_return*100, annual_market_return*100]), fmt = \"%1.1f%%\")\n",
    "plt.show()\n",
    "\n",
    "plt.title(\"Predicted standard deviations\")\n",
    "plt.xlabel(\"Weights used\")\n",
    "plt.ylabel(\"Standard deviation\")\n",
    "plt.bar_label(plt.bar([\"Optimal weights\", \"Equal weights\", \"S&P 500 default weights\"], [returns_std, baseline_returns_std, market_returns_std]), fmt = \"%1.3f\")\n",
    "plt.show()\n",
    "\n",
    "plt.title(\"Predicted sharpe ratios\")\n",
    "plt.xlabel(\"Weights used\")\n",
    "plt.ylabel(\"Sharpe ratios\")\n",
    "plt.bar_label(plt.bar([\"Optimal weights\", \"Equal weights\", \"S&P 500 default weights\"], [sharpe_ratio, baseline_sharpe_ratio, market_sharpe_ratio]), fmt = \"%1.3f\")\n",
    "plt.show()"
   ]
  },
  {
   "cell_type": "code",
   "execution_count": null,
   "id": "ee716ac1",
   "metadata": {},
   "outputs": [],
   "source": [
    "#backtesting optimal weights\n",
    "def backtest(test_start, test_end, weights):\n",
    "    weights = np.array(weights)\n",
    "    test_daily_stock_prices = yf.download(tickers, start = test_start, end = test_end)[\"Close\"]\n",
    "    test_daily_simple_stock_returns = test_daily_stock_prices.pct_change()\n",
    "    test_daily_log_stock_returns = np.log(1 + test_daily_simple_stock_returns)\n",
    "    test_returns = [np.exp(test_daily_log_stock_returns[i].mean() * (num_of_days - 1)) - 1 for i in tickers]\n",
    "    test_return = np.dot(weights, test_returns)\n",
    "    test_returns_std = np.sqrt(np.dot(weights.T, np.dot(test_daily_simple_stock_returns.cov() * (num_of_days - 1), weights)))\n",
    "    test_sharpe_ratio = (test_return - annual_risk_free_return) / test_returns_std\n",
    "    return [test_return, test_returns_std, test_sharpe_ratio]\n",
    "\n",
    "test_start = \"2023-07-03\"\n",
    "test_end = \"2024-07-03\"\n",
    "\n",
    "backtest_results = backtest(test_start, test_end, optimal_weights)\n",
    "backtest_return = backtest_results[0]\n",
    "backtest_returns_std = backtest_results[1]\n",
    "backtest_sharpe_ratio = backtest_results[2]"
   ]
  },
  {
   "cell_type": "code",
   "execution_count": null,
   "id": "5a370b11",
   "metadata": {},
   "outputs": [],
   "source": [
    "#backtesting equal weights\n",
    "baseline_backtest_results = backtest(test_start, test_end, equal_weights)\n",
    "baseline_backtest_return = baseline_backtest_results[0]\n",
    "baseline_backtest_returns_std = baseline_backtest_results[1]\n",
    "baseline_backtest_sharpe_ratio = baseline_backtest_results[2]"
   ]
  },
  {
   "cell_type": "code",
   "execution_count": null,
   "id": "87f03870",
   "metadata": {},
   "outputs": [],
   "source": [
    "#backtesting S&P 500 default weights\n",
    "def market_backtest(test_start, test_end):\n",
    "    test_daily_market_prices = yf.download(\"SPY\", start = test_start, end = test_end)[\"Close\"]\n",
    "    num_of_test_days = len(test_daily_market_prices)\n",
    "    test_daily_simple_market_returns = test_daily_market_prices.pct_change()\n",
    "    test_daily_log_market_returns = np.log(1 + test_daily_simple_market_returns)\n",
    "    test_annual_market_return = np.exp(test_daily_log_market_returns.mean() * (num_of_test_days - 1)) - 1\n",
    "    test_market_returns_std = test_daily_simple_market_returns.std() * np.sqrt(num_of_test_days - 1)\n",
    "    test_market_sharpe_ratio = (test_annual_market_return - annual_risk_free_return) / test_market_returns_std\n",
    "    return [test_annual_market_return, test_market_returns_std, test_market_sharpe_ratio]\n",
    "\n",
    "market_backtest_results = market_backtest(test_start, test_end)\n",
    "market_backtest_return = market_backtest_results[0]\n",
    "market_backtest_returns_std = market_backtest_results[1]\n",
    "market_backtest_sharpe_ratio = market_backtest_results[2]"
   ]
  },
  {
   "cell_type": "code",
   "execution_count": null,
   "id": "1f5a31cd",
   "metadata": {},
   "outputs": [],
   "source": [
    "#backtested results\n",
    "plt.title(\"Backtested annual returns\")\n",
    "plt.xlabel(\"Weights used\")\n",
    "plt.ylabel(\"Annual return %\")\n",
    "plt.bar_label(plt.bar([\"Optimal weights\", \"Equal weights\", \"SPY default weights\"], [backtest_return*100, baseline_backtest_return*100, market_backtest_return*100]), fmt = \"%1.1f%%\")\n",
    "plt.show()\n",
    "\n",
    "plt.title(\"Backtested standard deviations\")\n",
    "plt.xlabel(\"Weights used\")\n",
    "plt.ylabel(\"Standard deviation\")\n",
    "plt.bar_label(plt.bar([\"Optimal weights\", \"Equal weights\", \"SPY default weights\"], [backtest_returns_std, baseline_backtest_returns_std, market_backtest_returns_std]), fmt = \"%1.3f\")\n",
    "plt.show()\n",
    "\n",
    "plt.title(\"Backtested sharpe ratios\")\n",
    "plt.xlabel(\"Weights used\")\n",
    "plt.ylabel(\"Sharpe ratios\")\n",
    "plt.bar_label(plt.bar([\"Optimal weights\", \"Equal weights\", \"SPY default weights\"], [backtest_sharpe_ratio, baseline_backtest_sharpe_ratio, market_backtest_sharpe_ratio]), fmt = \"%1.3f\")\n",
    "plt.show()"
   ]
  },
  {
   "cell_type": "code",
   "execution_count": null,
   "id": "f35554a2",
   "metadata": {},
   "outputs": [],
   "source": [
    "#comparison of predicted to backtested\n",
    "plt.title(\"Annual returns: predicted vs backtested\")\n",
    "plt.ylabel(\"Annual return %\")\n",
    "plt.bar_label(plt.bar([\"Predicted\", \"Backtested\"], [annual_return*100, backtest_return*100]), fmt = \"%1.1f%%\")\n",
    "plt.show()\n",
    "\n",
    "plt.title(\"Standard deviations: predicted vs backtested\")\n",
    "plt.ylabel(\"Standard deviation\")\n",
    "plt.bar_label(plt.bar([\"Predicted\", \"Backtested\"], [returns_std, backtest_returns_std]), fmt = \"%1.3f\")\n",
    "plt.show()\n",
    "\n",
    "plt.title(\"Sharpe ratios: predicted vs backtested\")\n",
    "plt.ylabel(\"Sharpe ratio\")\n",
    "plt.bar_label(plt.bar([\"Predicted\", \"Backtested\"], [sharpe_ratio, backtest_sharpe_ratio]), fmt = \"%1.3f\")\n",
    "plt.show()"
   ]
  }
 ],
 "metadata": {
  "kernelspec": {
   "display_name": "Python 3 (ipykernel)",
   "language": "python",
   "name": "python3"
  },
  "language_info": {
   "codemirror_mode": {
    "name": "ipython",
    "version": 3
   },
   "file_extension": ".py",
   "mimetype": "text/x-python",
   "name": "python",
   "nbconvert_exporter": "python",
   "pygments_lexer": "ipython3",
   "version": "3.11.5"
  }
 },
 "nbformat": 4,
 "nbformat_minor": 5
}
